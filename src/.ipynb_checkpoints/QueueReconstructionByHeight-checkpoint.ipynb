{
 "cells": [
  {
   "cell_type": "code",
   "execution_count": 30,
   "metadata": {},
   "outputs": [],
   "source": [
    "int[][] people = {{7,0}, {4,4}, {7,1}, {5,0}, {6,1}, {5,2}};"
   ]
  },
  {
   "cell_type": "code",
   "execution_count": 31,
   "metadata": {},
   "outputs": [],
   "source": [
    "Queue<int []> asd = new LinkedList<>();"
   ]
  },
  {
   "cell_type": "code",
   "execution_count": 32,
   "metadata": {},
   "outputs": [],
   "source": [
    "// [7,0] ,[4.4] -> [4,4]를 보면 앞에 4명이 있어야 하는데 없음. 순서를 잘 맞춰서 세워봐라"
   ]
  },
  {
   "cell_type": "code",
   "execution_count": 33,
   "metadata": {},
   "outputs": [],
   "source": [
    "   public int[][] reconstructQueue(int[][] people) {\n",
    "       if(people.length != 0){\n",
    "        int[][] copy = new int[people.length][people[0].length];\n",
    "\n",
    "        for(int i=0;i<people.length;i++){\n",
    "            for(int j=0;j<people[0].length;j++)\n",
    "                copy[i][j] = -1;\n",
    "        }\n",
    "\n",
    "        Arrays.sort(people, (o1, o2) -> {\n",
    "            if(o1[0] == o2[0]){\n",
    "                return Integer.compare(o1[1], o2[1]);\n",
    "            }else{\n",
    "                return Integer.compare(o1[0], o2[0]);\n",
    "            }\n",
    "        });\n",
    "\n",
    "        for(int i=0;i<people.length;i++){\n",
    "            int cnt=0, index=0;\n",
    "            while(cnt != people[i][1]){\n",
    "                if(copy[index][0] == -1 || copy[index][0] >= people[i][0])\n",
    "                    cnt++;\n",
    "                index++;\n",
    "            }\n",
    "            while(copy[index][0] != -1){\n",
    "                index++;\n",
    "            }\n",
    "            copy[index] = people[i];\n",
    "        }\n",
    "\n",
    "        return copy;\n",
    "        }\n",
    "        return people;\n",
    "    }"
   ]
  },
  {
   "cell_type": "code",
   "execution_count": 34,
   "metadata": {},
   "outputs": [
    {
     "data": {
      "text/plain": [
       "[[I@3c8f5be4"
      ]
     },
     "execution_count": 34,
     "metadata": {},
     "output_type": "execute_result"
    }
   ],
   "source": [
    "reconstructQueue(people);"
   ]
  },
  {
   "cell_type": "code",
   "execution_count": 12,
   "metadata": {},
   "outputs": [],
   "source": [
    "Arrays.sort(people, (o1, o2) -> {\n",
    "if(o1[0] == o2[0]){\n",
    "    return Integer.compare(o1[1], o2[1]);\n",
    "}else{\n",
    "    return Integer.compare(o1[0], o2[0]);\n",
    "}\n",
    "});"
   ]
  },
  {
   "cell_type": "code",
   "execution_count": 16,
   "metadata": {},
   "outputs": [],
   "source": [
    "int[][] copy = new int[people.length][people[0].length];"
   ]
  },
  {
   "cell_type": "code",
   "execution_count": 17,
   "metadata": {},
   "outputs": [],
   "source": [
    "System.arraycopy(people,0,copy,0,people.length);"
   ]
  },
  {
   "cell_type": "code",
   "execution_count": 18,
   "metadata": {},
   "outputs": [
    {
     "name": "stdout",
     "output_type": "stream",
     "text": [
      "7\n",
      "0\n",
      "4\n",
      "4\n",
      "7\n",
      "1\n",
      "5\n",
      "0\n",
      "6\n",
      "1\n",
      "5\n",
      "2\n"
     ]
    }
   ],
   "source": [
    "for(int i=0;i<people.length;i++){\n",
    "for(int j=0;j<people[0].length;j++){\n",
    "System.out.println(copy[i][j]);\n",
    "}\n",
    "}"
   ]
  },
  {
   "cell_type": "code",
   "execution_count": null,
   "metadata": {},
   "outputs": [],
   "source": []
  }
 ],
 "metadata": {
  "kernelspec": {
   "display_name": "Java",
   "language": "java",
   "name": "java"
  },
  "language_info": {
   "codemirror_mode": "java",
   "file_extension": ".jshell",
   "mimetype": "text/x-java-source",
   "name": "Java",
   "pygments_lexer": "java",
   "version": "11.0.4+11-LTS"
  }
 },
 "nbformat": 4,
 "nbformat_minor": 2
}

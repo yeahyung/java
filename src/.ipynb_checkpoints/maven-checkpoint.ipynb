{
 "cells": [
  {
   "cell_type": "code",
   "execution_count": 41,
   "metadata": {
    "ExecuteTime": {
     "end_time": "2020-09-27T04:59+0000",
     "start_time": "2020-09-27T04:59:28.605Z"
    }
   },
   "outputs": [
    {
     "name": "stdout",
     "output_type": "stream",
     "text": [
      "Cannot divide by zero\n"
     ]
    }
   ],
   "source": [
    "try{\n",
    "    System.out.println(5/0);\n",
    "}catch(Exception e){\n",
    "    System.out.println(\"Cannot divide by zero\");\n",
    "}"
   ]
  },
  {
   "cell_type": "code",
   "execution_count": 18,
   "metadata": {
    "ExecuteTime": {
     "end_time": "2020-09-26T14:15+0000",
     "start_time": "2020-09-26T14:15:27.261Z"
    }
   },
   "outputs": [
    {
     "name": "stdout",
     "output_type": "stream",
     "text": [
      "0\n",
      "1\n",
      "2\n",
      "3\n",
      "4\n",
      "5\n",
      "6\n",
      "7\n",
      "8\n",
      "9\n"
     ]
    }
   ],
   "source": [
    "for(int i=0;i<10;i++)\n",
    "    System.out.println(i);"
   ]
  },
  {
   "cell_type": "code",
   "execution_count": 1,
   "metadata": {
    "ExecuteTime": {
     "end_time": "2020-09-26T07:22+0000",
     "start_time": "2020-09-26T07:22:59.710Z"
    }
   },
   "outputs": [],
   "source": [
    "try{\n",
    "    \n",
    "}catch(Exception e){\n",
    "    \n",
    "}"
   ]
  },
  {
   "cell_type": "code",
   "execution_count": 6,
   "metadata": {
    "ExecuteTime": {
     "end_time": "2020-09-26T13:02+0000",
     "start_time": "2020-09-26T13:02:19.383Z"
    }
   },
   "outputs": [],
   "source": [
    "StringBuilder builder = new StringBuilder();"
   ]
  },
  {
   "cell_type": "code",
   "execution_count": 8,
   "metadata": {
    "ExecuteTime": {
     "end_time": "2020-09-26T13:02+0000",
     "start_time": "2020-09-26T13:02:50.265Z"
    }
   },
   "outputs": [
    {
     "data": {
      "text/plain": [
       "asdasdqweqweasdasd\n",
       "qweqwe"
      ]
     },
     "execution_count": 8,
     "metadata": {},
     "output_type": "execute_result"
    }
   ],
   "source": [
    "builder.append(\"asdasd\\n\");\n",
    "builder.append(\"qweqwe\");\n",
    "builder"
   ]
  },
  {
   "cell_type": "code",
   "execution_count": 11,
   "metadata": {
    "ExecuteTime": {
     "end_time": "2020-09-26T14:00+0000",
     "start_time": "2020-09-26T14:00:26.527Z"
    }
   },
   "outputs": [],
   "source": [
    "float floatNum = 5;"
   ]
  },
  {
   "cell_type": "code",
   "execution_count": 13,
   "metadata": {
    "ExecuteTime": {
     "end_time": "2020-09-26T14:00+0000",
     "start_time": "2020-09-26T14:00:52.371Z"
    }
   },
   "outputs": [
    {
     "name": "stdout",
     "output_type": "stream",
     "text": [
      "Infinity\n"
     ]
    }
   ],
   "source": [
    "System.out.println(floatNum/0);"
   ]
  },
  {
   "cell_type": "code",
   "execution_count": 43,
   "metadata": {
    "ExecuteTime": {
     "end_time": "2020-09-27T04:59+0000",
     "start_time": "2020-09-27T04:59:39.166Z"
    }
   },
   "outputs": [],
   "source": [
    "import org.springframework.web.client.RestTemplate;\n",
    "\n",
    "@Autowired\n",
    "private RestTemplate restTemplate;"
   ]
  },
  {
   "cell_type": "code",
   "execution_count": 22,
   "metadata": {
    "ExecuteTime": {
     "end_time": "2020-09-26T14:16+0000",
     "start_time": "2020-09-26T14:16:38.926Z"
    }
   },
   "outputs": [],
   "source": [
    "import org.knowm.xchart.*;"
   ]
  },
  {
   "cell_type": "code",
   "execution_count": 21,
   "metadata": {
    "ExecuteTime": {
     "end_time": "2020-09-26T14:16+0000",
     "start_time": "2020-09-26T14:16:31.667Z"
    }
   },
   "outputs": [],
   "source": [
    "%maven org.knowm.xchart:xchart:3.5.2"
   ]
  },
  {
   "cell_type": "code",
   "execution_count": 29,
   "metadata": {
    "ExecuteTime": {
     "end_time": "2020-09-26T14:26+0000",
     "start_time": "2020-09-26T14:25:42.719Z"
    }
   },
   "outputs": [
    {
     "ename": "EvalException",
     "evalue": "Exception occurred while running line magic 'maven': Cannot resolve 'org.springframework.boot:spring-boot-starter-web' as maven or ivy coordinates.",
     "output_type": "error",
     "traceback": [
      "\u001b[1m\u001b[31m---------------------------------------------------------------------------\u001b[0m",
      "\u001b[1m\u001b[31mjava.lang.RuntimeException: Exception occurred while running line magic 'maven': Cannot resolve 'org.springframework.boot:spring-boot-starter-web' as maven or ivy coordinates.\u001b[0m",
      "\u001b[1m\u001b[31m\tat io.github.spencerpark.ijava.runtime.Magics.lineMagic(Magics.java:19)\u001b[0m",
      "\u001b[1m\u001b[31m\tat .(#53:1)\u001b[0m"
     ]
    }
   ],
   "source": [
    "%maven org.springframework.boot:spring-boot-starter-test:2.2.7.RELEASE\n",
    "%maven org.springframework.boot:spring-boot-starter-parent:2.2.7.RELEASE"
   ]
  },
  {
   "cell_type": "code",
   "execution_count": 32,
   "metadata": {
    "ExecuteTime": {
     "end_time": "2020-09-26T14:28+0000",
     "start_time": "2020-09-26T14:28:30.777Z"
    }
   },
   "outputs": [],
   "source": [
    "%maven org.springframework.boot:spring-boot-starter-web:2.2.7.RELEASE"
   ]
  },
  {
   "cell_type": "code",
   "execution_count": 40,
   "metadata": {
    "ExecuteTime": {
     "end_time": "2020-09-27T04:53+0000",
     "start_time": "2020-09-27T04:53:36.288Z"
    }
   },
   "outputs": [
    {
     "ename": "CompilationException",
     "evalue": "",
     "output_type": "error",
     "traceback": [
      "\u001b[1m\u001b[30m|   \u001b[1m\u001b[30mimport TreeNode\u001b[0m\u001b[1m\u001b[30m\u001b[41m\u001b[0m\u001b[1m\u001b[30m;\u001b[0m",
      "\u001b[1m\u001b[31m'.' expected\u001b[0m",
      ""
     ]
    }
   ],
   "source": [
    "import TreeNode;\n",
    "TreeNode tree = new TreeNode();"
   ]
  },
  {
   "cell_type": "code",
   "execution_count": 42,
   "metadata": {
    "ExecuteTime": {
     "end_time": "2020-09-27T04:59+0000",
     "start_time": "2020-09-27T04:59:32.975Z"
    }
   },
   "outputs": [],
   "source": [
    "%maven"
   ]
  },
  {
   "cell_type": "code",
   "execution_count": null,
   "metadata": {},
   "outputs": [],
   "source": []
  }
 ],
 "metadata": {
  "kernelspec": {
   "display_name": "Java",
   "language": "java",
   "name": "java"
  },
  "language_info": {
   "codemirror_mode": "java",
   "file_extension": ".jshell",
   "mimetype": "text/x-java-source",
   "name": "Java",
   "pygments_lexer": "java",
   "version": "11.0.4+11-LTS"
  }
 },
 "nbformat": 4,
 "nbformat_minor": 2
}
